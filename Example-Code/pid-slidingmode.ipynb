{
 "cells": [
  {
   "cell_type": "markdown",
   "metadata": {},
   "source": [
    "# FOR ISAAC SLIDING MODE CONTROLLER INVLOLVING A PID"
   ]
  },
  {
   "cell_type": "code",
   "execution_count": 1,
   "metadata": {},
   "outputs": [],
   "source": [
    "from sympy import *\n",
    "import matplotlib.pyplot as plt\n",
    "import control as c\n",
    "init_printing()"
   ]
  },
  {
   "cell_type": "code",
   "execution_count": 2,
   "metadata": {},
   "outputs": [],
   "source": [
    "#p = final time - initial time\n",
    "#e = e_k, x = x_k, k = k_p,k_i, and k_d, i = I_k+1, l = II_k+1\n",
    "#y = given angle (from MPU), z = desired angle, u = control constant\n",
    "#a = x_k+1, s = sigma\n",
    "x,y,z,k,u,t,p = symbols('x,y,z,k,u,t,p')\n",
    "a,s,e,i,l = symbols('a,s,e,i,l')\n",
    "u = 5\n",
    "e = y-z\n",
    "i = integrate(e,(t,0,t)) + p*e\n",
    "l = integrate(e, (t,0,t),(t,0,t)) + p*(integrate(e,(t,0,t)))\n",
    "s = x + k*(integrate(e,(t,0,t))) + k*e + k*(integrate(e, (t,0,t),(t,0,t)))\n",
    "a = x - p*u*sign(s)"
   ]
  },
  {
   "cell_type": "code",
   "execution_count": 3,
   "metadata": {},
   "outputs": [
    {
     "name": "stdout",
     "output_type": "stream",
     "text": [
      "p⋅(y - z) + t⋅(y - z)\n",
      "-----------------------------------------------\n",
      "               2 ⎛y   z⎞\n",
      "p⋅t⋅(y - z) + t ⋅⎜─ - ─⎟\n",
      "                 ⎝2   2⎠\n",
      "-----------------------------------------------\n",
      "   2 ⎛y   z⎞                              \n",
      "k⋅t ⋅⎜─ - ─⎟ + k⋅t⋅(y - z) + k⋅(y - z) + x\n",
      "     ⎝2   2⎠                              \n",
      "-----------------------------------------------\n",
      "          ⎛   2 ⎛y   z⎞                              ⎞    \n",
      "- 5⋅p⋅sign⎜k⋅t ⋅⎜─ - ─⎟ + k⋅t⋅(y - z) + k⋅(y - z) + x⎟ + x\n",
      "          ⎝     ⎝2   2⎠                              ⎠    \n"
     ]
    }
   ],
   "source": [
    "pprint(i)\n",
    "print('-----------------------------------------------')\n",
    "pprint(l)\n",
    "print('-----------------------------------------------')\n",
    "pprint(s)\n",
    "print('-----------------------------------------------')\n",
    "pprint(a)"
   ]
  },
  {
   "cell_type": "code",
   "execution_count": 5,
   "metadata": {},
   "outputs": [
    {
     "ename": "NameError",
     "evalue": "name 's' is not defined",
     "output_type": "error",
     "traceback": [
      "\u001b[0;31m---------------------------------------------------------------------------\u001b[0m",
      "\u001b[0;31mNameError\u001b[0m                                 Traceback (most recent call last)",
      "Cell \u001b[0;32mIn [5], line 13\u001b[0m\n\u001b[1;32m     11\u001b[0m     \u001b[39melse\u001b[39;00m:\n\u001b[1;32m     12\u001b[0m         \u001b[39mreturn\u001b[39;00m s\n\u001b[0;32m---> 13\u001b[0m sign(s)\n",
      "\u001b[0;31mNameError\u001b[0m: name 's' is not defined"
     ]
    }
   ],
   "source": [
    "if sign(s)==1:\n",
    "    print('move up')\n",
    "elif sign(s)==-1:\n",
    "    print('move down')\n",
    "else:\n",
    "    print('not working')\n",
    "    pprint(sign(s))"
   ]
  },
  {
   "cell_type": "code",
   "execution_count": 5,
   "metadata": {},
   "outputs": [],
   "source": [
    "#PLOT THE SGN() GRAPH"
   ]
  }
 ],
 "metadata": {
  "kernelspec": {
   "display_name": "Python 3.10.6 64-bit",
   "language": "python",
   "name": "python3"
  },
  "language_info": {
   "codemirror_mode": {
    "name": "ipython",
    "version": 3
   },
   "file_extension": ".py",
   "mimetype": "text/x-python",
   "name": "python",
   "nbconvert_exporter": "python",
   "pygments_lexer": "ipython3",
   "version": "3.10.6"
  },
  "orig_nbformat": 4,
  "vscode": {
   "interpreter": {
    "hash": "916dbcbb3f70747c44a77c7bcd40155683ae19c65e1c03b4aa3499c5328201f1"
   }
  }
 },
 "nbformat": 4,
 "nbformat_minor": 2
}
